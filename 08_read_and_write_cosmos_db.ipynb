{
 "cells": [
  {
   "cell_type": "code",
   "execution_count": null,
   "id": "aaf40819-cf06-4288-b778-75799167fdc3",
   "metadata": {},
   "outputs": [
    {
     "data": {
      "text/html": [
       "\n",
       "            <div>\n",
       "                <p><b>SparkSession - in-memory</b></p>\n",
       "                \n",
       "        <div>\n",
       "            <p><b>SparkContext</b></p>\n",
       "\n",
       "            <p><a href=\"http://7f40bfcd1d05:4040\">Spark UI</a></p>\n",
       "\n",
       "            <dl>\n",
       "              <dt>Version</dt>\n",
       "                <dd><code>v3.3.0</code></dd>\n",
       "              <dt>Master</dt>\n",
       "                <dd><code>local[*]</code></dd>\n",
       "              <dt>AppName</dt>\n",
       "                <dd><code>Read and Write using Cosmos DB</code></dd>\n",
       "            </dl>\n",
       "        </div>\n",
       "        \n",
       "            </div>\n",
       "        "
      ],
      "text/plain": [
       "<pyspark.sql.session.SparkSession at 0x7fa6c5946320>"
      ]
     },
     "execution_count": 1,
     "metadata": {},
     "output_type": "execute_result"
    }
   ],
   "source": [
    "# Create the Spark Session\n",
    "from pyspark.sql import SparkSession\n",
    "\n",
    "spark = (\n",
    "    SparkSession \n",
    "    .builder \n",
    "    .appName(\"Read and Write using Cosmos DB\") \n",
    "    .config(\"spark.streaming.stopGracefullyOnShutdown\", True) \n",
    "    .config('spark.jars.packages', 'com.azure.cosmos.spark:azure-cosmos-spark_3-3_2-12:4.15.0')\n",
    "    .config(\"spark.sql.shuffle.partitions\", 8)\n",
    "    .master(\"local[*]\") \n",
    "    .getOrCreate()\n",
    ")\n",
    "\n",
    "spark"
   ]
  },
  {
   "cell_type": "code",
   "execution_count": null,
   "id": "49de8a1d-55c2-4e7b-81dd-07454bf66a99",
   "metadata": {},
   "outputs": [],
   "source": [
    "# Set configuration settings to connect to Cosmos DB\n",
    "\n",
    "config = {\n",
    "  \"spark.cosmos.accountEndpoint\": \"<cosmos-db-endpoint>\",\n",
    "  \"spark.cosmos.accountKey\": \"<secret-key>\",\n",
    "  \"spark.cosmos.database\": \"easewithdata\",\n",
    "  \"spark.cosmos.container\": \"device-data\"\n",
    "}"
   ]
  },
  {
   "cell_type": "code",
   "execution_count": null,
   "id": "e62126ff-a857-4433-86d8-c2defd0c7322",
   "metadata": {},
   "outputs": [],
   "source": [
    "# Read data from Cosmos DB\n",
    "\n",
    "df = (\n",
    "    spark.read.format(\"cosmos.oltp\")\n",
    "    .options(**config)\n",
    "    .option(\"spark.cosmos.read.inferSchema.enabled\", \"true\")\n",
    "    .load()\n",
    "    \n",
    ")"
   ]
  },
  {
   "cell_type": "code",
   "execution_count": null,
   "id": "38537de9-4ac4-47de-aa58-3e294659e79f",
   "metadata": {},
   "outputs": [
    {
     "name": "stdout",
     "output_type": "stream",
     "text": [
      "root\n",
      " |-- data: struct (nullable = true)\n",
      " |    |-- devices: array (nullable = true)\n",
      " |    |    |-- element: struct (containsNull = true)\n",
      " |    |    |    |-- deviceId: string (nullable = true)\n",
      " |    |    |    |-- temperature: integer (nullable = true)\n",
      " |    |    |    |-- measure: string (nullable = true)\n",
      " |    |    |    |-- status: string (nullable = true)\n",
      " |-- eventId: string (nullable = true)\n",
      " |-- customerId: string (nullable = true)\n",
      " |-- id: string (nullable = false)\n",
      " |-- eventPublisher: string (nullable = true)\n",
      " |-- eventOffset: integer (nullable = true)\n",
      " |-- eventTime: string (nullable = true)\n",
      "\n"
     ]
    }
   ],
   "source": [
    "df.printSchema()"
   ]
  },
  {
   "cell_type": "code",
   "execution_count": null,
   "id": "03e47ee0-b99b-4206-a2d5-22430899a4d7",
   "metadata": {},
   "outputs": [
    {
     "name": "stdout",
     "output_type": "stream",
     "text": [
      "+--------------------+--------------------+----------+--------------------+--------------+-----------+--------------------+\n",
      "|                data|             eventId|customerId|                  id|eventPublisher|eventOffset|           eventTime|\n",
      "+--------------------+--------------------+----------+--------------------+--------------+-----------+--------------------+\n",
      "|{[{D001, 15, C, E...|e3cb26d3-41b2-49a...|   CI00103|3277242f-bee6-409...|        device|      10001|2023-01-05 11:13:...|\n",
      "|                {[]}|8c202190-bc24-448...|   CI00104|ca104bd4-8328-4ac...|        device|      10002|2023-01-05 11:13:...|\n",
      "+--------------------+--------------------+----------+--------------------+--------------+-----------+--------------------+\n",
      "\n"
     ]
    }
   ],
   "source": [
    "df.show()"
   ]
  },
  {
   "cell_type": "code",
   "execution_count": null,
   "id": "358bf0c7-e55e-4473-bc08-3f8c68f7abeb",
   "metadata": {},
   "outputs": [],
   "source": [
    "# Write data to Cosmos DB\n",
    "\n",
    "df_read = spark.read.json(\"datasets/devices/device_03.json\")"
   ]
  },
  {
   "cell_type": "code",
   "execution_count": null,
   "id": "fdccd6ab-d53f-4b35-8bb0-bd37e8c58561",
   "metadata": {},
   "outputs": [],
   "source": [
    "df_read.show()"
   ]
  },
  {
   "cell_type": "code",
   "execution_count": null,
   "id": "8beaa3f4-b04b-4577-8b4e-a15d6a209696",
   "metadata": {},
   "outputs": [],
   "source": [
    "# Write data to Cosmos DB\n",
    "from pyspark.sql.functions import col\n",
    "\n",
    "df_read.withColumn(\"id\", col(\"eventId\")).write \\\n",
    "    .format(\"cosmos.oltp\") \\\n",
    "    .options(**config) \\\n",
    "    .option(\"spark.cosmos.write.strategy\", \"ItemDelete\") \\\n",
    "    .mode(\"APPEND\") \\\n",
    "    .save()"
   ]
  },
  {
   "cell_type": "code",
   "execution_count": null,
   "id": "a4886d0b-5d3a-46a1-a980-eef0d46b04bf",
   "metadata": {},
   "outputs": [],
   "source": []
  }
 ],
 "metadata": {
  "kernelspec": {
   "display_name": "Python 3 (ipykernel)",
   "language": "python",
   "name": "python3"
  },
  "language_info": {
   "codemirror_mode": {
    "name": "ipython",
    "version": 3
   },
   "file_extension": ".py",
   "mimetype": "text/x-python",
   "name": "python",
   "nbconvert_exporter": "python",
   "pygments_lexer": "ipython3",
   "version": "3.10.6"
  }
 },
 "nbformat": 4,
 "nbformat_minor": 5
}
