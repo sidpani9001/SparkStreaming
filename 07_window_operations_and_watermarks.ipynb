{
 "cells": [
  {
   "cell_type": "code",
   "execution_count": 1,
   "id": "6c2e0cab-c1a9-4124-8c4d-511d0a239f3c",
   "metadata": {},
   "outputs": [
    {
     "data": {
      "text/html": [
       "\n",
       "            <div>\n",
       "                <p><b>SparkSession - in-memory</b></p>\n",
       "                \n",
       "        <div>\n",
       "            <p><b>SparkContext</b></p>\n",
       "\n",
       "            <p><a href=\"http://7f40bfcd1d05:4040\">Spark UI</a></p>\n",
       "\n",
       "            <dl>\n",
       "              <dt>Version</dt>\n",
       "                <dd><code>v3.3.0</code></dd>\n",
       "              <dt>Master</dt>\n",
       "                <dd><code>local[*]</code></dd>\n",
       "              <dt>AppName</dt>\n",
       "                <dd><code>Window Operations and Watermarks</code></dd>\n",
       "            </dl>\n",
       "        </div>\n",
       "        \n",
       "            </div>\n",
       "        "
      ],
      "text/plain": [
       "<pyspark.sql.session.SparkSession at 0x7f2acbcd2200>"
      ]
     },
     "execution_count": 1,
     "metadata": {},
     "output_type": "execute_result"
    }
   ],
   "source": [
    "# Create the Spark Session\n",
    "from pyspark.sql import SparkSession\n",
    "\n",
    "spark = (\n",
    "    SparkSession \n",
    "    .builder \n",
    "    .appName(\"Window Operations and Watermarks\") \n",
    "    .config(\"spark.streaming.stopGracefullyOnShutdown\", True) \n",
    "    .config('spark.jars.packages', 'org.apache.spark:spark-sql-kafka-0-10_2.12:3.3.0')\n",
    "    .config(\"spark.sql.shuffle.partitions\", 8)\n",
    "    .master(\"local[*]\") \n",
    "    .getOrCreate()\n",
    ")\n",
    "\n",
    "spark"
   ]
  },
  {
   "cell_type": "code",
   "execution_count": 2,
   "id": "3c01cfaf-62cc-4ff3-9084-819c604a5076",
   "metadata": {},
   "outputs": [],
   "source": [
    "# Create the kafka_df to read from kafka\n",
    "\n",
    "kafka_df = (\n",
    "    spark\n",
    "    .readStream\n",
    "    .format(\"kafka\")\n",
    "    .option(\"kafka.bootstrap.servers\", \"ed-kafka:29092\")\n",
    "    .option(\"subscribe\", \"wildlife\")\n",
    "    .option(\"startingOffsets\", \"earliest\")\n",
    "    .load()\n",
    ")"
   ]
  },
  {
   "cell_type": "code",
   "execution_count": 3,
   "id": "5c6bc96d-a67c-4d92-bfe5-ca99470d9431",
   "metadata": {},
   "outputs": [],
   "source": [
    "# Convert binary to string value column\n",
    "from pyspark.sql.functions import expr\n",
    "\n",
    "kafka_json_df = kafka_df.withColumn(\"value\", expr(\"cast(value as string)\"))"
   ]
  },
  {
   "cell_type": "code",
   "execution_count": 4,
   "id": "ce7b9d81-f996-4378-89fe-fde34781a7c9",
   "metadata": {},
   "outputs": [],
   "source": [
    "from pyspark.sql.functions import from_json, col, split, explode\n",
    "\n",
    "# JSON Schema\n",
    "json_schema = \"event_time string, data string\"\n",
    "\n",
    "# Expand JSON from Value column using Schema\n",
    "json_df = kafka_json_df.withColumn(\"values_json\", from_json(col(\"value\"), json_schema))"
   ]
  },
  {
   "cell_type": "code",
   "execution_count": 5,
   "id": "41709105-2372-494e-9f64-bac6936ad75e",
   "metadata": {},
   "outputs": [],
   "source": [
    "# Select the required columns\n",
    "\n",
    "flattened_df = json_df.select(\"values_json.event_time\",\"values_json.data\")"
   ]
  },
  {
   "cell_type": "code",
   "execution_count": 6,
   "id": "db443ad1-dc6e-460d-99b7-5f5be30e69e6",
   "metadata": {},
   "outputs": [],
   "source": [
    "# Split the data in words\n",
    "\n",
    "words_df = flattened_df \\\n",
    "    .withColumn(\"words\", split(\"data\", \" \")) \\\n",
    "    .withColumn(\"word\", explode(\"words\")) \\\n",
    "    .withColumn(\"event_time\", col(\"event_time\").cast(\"timestamp\"))"
   ]
  },
  {
   "cell_type": "code",
   "execution_count": 7,
   "id": "c0a71588-4ab4-47de-81ec-6b11bdf3fa16",
   "metadata": {},
   "outputs": [
    {
     "name": "stdout",
     "output_type": "stream",
     "text": [
      "root\n",
      " |-- event_time: timestamp (nullable = true)\n",
      " |-- data: string (nullable = true)\n",
      " |-- words: array (nullable = true)\n",
      " |    |-- element: string (containsNull = false)\n",
      " |-- word: string (nullable = false)\n",
      "\n"
     ]
    }
   ],
   "source": [
    "words_df.printSchema()"
   ]
  },
  {
   "cell_type": "code",
   "execution_count": 8,
   "id": "ea2ffafd-38c6-4a1f-910f-9fd0cc3eab72",
   "metadata": {},
   "outputs": [],
   "source": [
    "# Aggregate the words to generate count\n",
    "from pyspark.sql.functions import count, lit, window\n",
    "\n",
    "df_agg = words_df \\\n",
    "    .withWatermark(\"event_time\", \"10 minutes\") \\\n",
    "    .groupBy(window(\"event_time\", \"10 minutes\", \"5 minutes\"),\n",
    "                          \"word\").agg(count(lit(1)).alias(\"cnt\"))"
   ]
  },
  {
   "cell_type": "code",
   "execution_count": 9,
   "id": "a4ad0ea0-d774-491b-8ee7-a12b533baa75",
   "metadata": {},
   "outputs": [],
   "source": [
    "df_final = df_agg.selectExpr(\"window.start as start_time\", \"window.end as end_time\", \"word\", \"cnt\")"
   ]
  },
  {
   "cell_type": "code",
   "execution_count": 10,
   "id": "1380d725-70bc-4f8d-a9ef-bf651cb098d3",
   "metadata": {},
   "outputs": [
    {
     "name": "stdout",
     "output_type": "stream",
     "text": [
      "root\n",
      " |-- start_time: timestamp (nullable = true)\n",
      " |-- end_time: timestamp (nullable = true)\n",
      " |-- word: string (nullable = false)\n",
      " |-- cnt: long (nullable = false)\n",
      "\n"
     ]
    }
   ],
   "source": [
    "df_final.printSchema()"
   ]
  },
  {
   "cell_type": "code",
   "execution_count": 11,
   "id": "461e32bd-4813-4006-a182-ff0d2cc5002f",
   "metadata": {},
   "outputs": [
    {
     "data": {
      "text/plain": [
       "<pyspark.sql.streaming.StreamingQuery at 0x7f2acbcd24d0>"
      ]
     },
     "execution_count": 11,
     "metadata": {},
     "output_type": "execute_result"
    }
   ],
   "source": [
    "(df_final\n",
    " .writeStream\n",
    " .format(\"console\")\n",
    " .outputMode(\"complete\")\n",
    " .trigger(processingTime='30 seconds')\n",
    " .option(\"checkpointLocation\", \"checkpoint_dir_kafka_2\")\n",
    " .start()\n",
    ")"
   ]
  },
  {
   "cell_type": "code",
   "execution_count": 12,
   "id": "cab0412d-f930-4606-af8e-98e6533908a4",
   "metadata": {},
   "outputs": [
    {
     "data": {
      "text/plain": [
       "<pyspark.sql.streaming.StreamingQuery at 0x7f2acbcd2b00>"
      ]
     },
     "execution_count": 12,
     "metadata": {},
     "output_type": "execute_result"
    }
   ],
   "source": [
    "(df_final\n",
    " .writeStream\n",
    " .format(\"console\")\n",
    " .outputMode(\"update\")\n",
    " .trigger(processingTime='30 seconds')\n",
    " .option(\"checkpointLocation\", \"checkpoint_dir_kafka_3\")\n",
    " .start()\n",
    ")"
   ]
  },
  {
   "cell_type": "code",
   "execution_count": null,
   "id": "b15b7840-795b-420f-b46a-1e3ffa4feb95",
   "metadata": {},
   "outputs": [],
   "source": []
  }
 ],
 "metadata": {
  "kernelspec": {
   "display_name": "Python 3 (ipykernel)",
   "language": "python",
   "name": "python3"
  },
  "language_info": {
   "codemirror_mode": {
    "name": "ipython",
    "version": 3
   },
   "file_extension": ".py",
   "mimetype": "text/x-python",
   "name": "python",
   "nbconvert_exporter": "python",
   "pygments_lexer": "ipython3",
   "version": "3.10.6"
  }
 },
 "nbformat": 4,
 "nbformat_minor": 5
}
